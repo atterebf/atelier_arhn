{
 "cells": [
  {
   "cell_type": "markdown",
   "metadata": {},
   "source": [
    "# Répertoire des professeurs et principaux de la faculté des arts de Paris aux XVIIe et XVIIIe siècles – exploration des données"
   ]
  },
  {
   "cell_type": "markdown",
   "metadata": {},
   "source": [
    "## Introduction\n",
    "\n",
    "Les données utilisées dans cet exercice ont été produites par  Boris Noguès.\n",
    "\n",
    "\n",
    "Boris Noguès, «Répertoire des professeurs et principaux de la faculté des arts de Paris aux XVIIe et XVIIIe siècles», novembre 2008 [en ligne] http://rhe.ish-lyon.cnrs.fr/?q=pfap (consulté le 12 Mai 2020)\n",
    "Droits d'auteur : Creative Commons by-nc-sa 3.0 FR (http://creativecommons.org/licenses/by-nc-sa/3.0/fr/)\n",
    "\n",
    "\n",
    "\n",
    "\n",
    "Préalablement à l'exploration avec ce carnet:\n",
    "\n",
    "* Ouvrir le fichier Excel ('exemples/pfap.csv') dans Libre Office\n",
    "* Sauvegarder une copie du fichier au format CSV\n",
    "* Bien paramétrer la sortie CSV: encodage caractères UTF-8, ',' ou '|' comme séparateur de champ, '\"' comme séparateur de châine de caractères"
   ]
  },
  {
   "cell_type": "code",
   "execution_count": null,
   "metadata": {},
   "outputs": [],
   "source": []
  },
  {
   "cell_type": "markdown",
   "metadata": {},
   "source": [
    "## Documentation Python\n",
    "\n",
    "La finalité de l'exercice est d'apprendre à explorer un fichier au format CSV on utilisant les listes Python et outils associés.\n",
    "\n",
    "Cf. ces pages:\n",
    "\n",
    "* https://docs.python.org/3.6/library/csv.html\n",
    "* https://docs.python.org/3.6/tutorial/introduction.html#lists\n",
    "  \n",
    "Ultérieurement on présentera les mêmes opérations effectuées avec la librairie Pandas"
   ]
  },
  {
   "cell_type": "markdown",
   "metadata": {},
   "source": [
    "## Gestion des librairies\n",
    "\n",
    "Utiliser l'environnement Conda : 'atelier', activer le kernel relatif\n",
    "\n",
    "Cf. cette page de documentation : (wiki)"
   ]
  },
  {
   "cell_type": "code",
   "execution_count": null,
   "metadata": {},
   "outputs": [],
   "source": [
    "import csv\n",
    "import matplotlib.pyplot as plt\n",
    "\n",
    "from collections import Counter\n",
    "from operator import itemgetter\n",
    "\n",
    "import matplotlib.pyplot as plt"
   ]
  },
  {
   "cell_type": "markdown",
   "metadata": {},
   "source": [
    "## Importation du fichier CSV"
   ]
  },
  {
   "cell_type": "code",
   "execution_count": 242,
   "metadata": {},
   "outputs": [],
   "source": [
    "chemin_f = 'exemples/pfap.csv'\n",
    "# chemin_f = 'exemples/pfap.xls'  -- > UnicodeDecodeError: 'utf-8' codec can't decode byte 0xd0 in position 0: invalid continuation byte"
   ]
  },
  {
   "cell_type": "code",
   "execution_count": 246,
   "metadata": {},
   "outputs": [],
   "source": [
    "def print_n_rows(file, n):\n",
    "    i = 0\n",
    "    for row in file:\n",
    "        if i < n:\n",
    "            print(row)\n",
    "        i += 1    \n",
    "    return 'Done !'"
   ]
  },
  {
   "cell_type": "code",
   "execution_count": 250,
   "metadata": {},
   "outputs": [
    {
     "name": "stdout",
     "output_type": "stream",
     "text": [
      "|\n",
      "['Nom', 'Prénoms', 'naissance', 'décès', 'Nation', 'Diocèse', \"Collège d'études\", 'année de référence', 'Collège du premier poste', 'Fonction du premier poste', '1ère année attestée du 1er poste', 'date ultime attestée du 1er poste', 'Collège du deuxième poste', 'Fonction du deuxième poste', '1ère date attestée du deuxième poste', 'date ultime attestée du deuxième poste', 'Collège du troisème poste', 'Fonction du troisième poste', '1ère date attestée du troisième poste', 'Date ultime attestée du troisième poste', 'Autres informations', 'Premier grade connu', 'Second grade connu', 'Ordre sacré', 'Bénéfices', 'Engagement janséniste', 'Serment civique', 'Fonctions universitaires', 'Publications', 'Référence de la source 1', 'Référence de la source 2', 'Référence de la source 3', 'Autres références de source']\n",
      "['Acher', 'Jean Baptiste', '', '', 'Normandie', 'Rouen', 'Lisieux (1758 en 2e, 1750 en 1ère, noté au concours général)', '1756', 'Lisieux', 'professeur de seconde', '1756', '1765', '', '', '', '', '', '', '', '', '', '', '', '', '', '', '', '', '', '916363', 'H/3/2597', 'MSJF 414', '']\n",
      "['Achet', 'Louis Auguste', '', '', 'France', 'Paris', '', '1712', '', '', '', '', '', '', '', '', '', '', '', '', '', '', '', 'clerc 1712', '', '', '', '', '', 'M3314', '', '', '']\n",
      "['Adam', 'François', '', '1714', 'Normandie', '', '', '1696', 'Harcourt', 'professeur de 5e', '1696', '1705', 'Harcourt', \"professeur d'humanités\", '1713', '1713', '', '', '', '', '', '', '', '', '', '', '', 'chapelain', 'aucune', 'REG10', '', '', '']\n",
      "['Adam', 'Nicolas', '1717', '1792', 'France', 'Paris (Ville)', '', '1748', 'Lisieux', 'professeur', '1748', '1748', 'Lisieux', '', '', '', '', '', '', '', \"Deux homonymes différenciés par la date de demande d'une régence.\", '', '', 'acolyte 1748', '', '', '', '', '', 'M3316', 'Dictionnaire des lettres françaises', '', '']\n"
     ]
    }
   ],
   "source": [
    "csv_list = []\n",
    "with open(chemin_f, 'r') as f:\n",
    "    ### Documentation de sniffer -> mettre valeur plus élevée de caractères\n",
    "    #  https://docs.python.org/3.6/library/csv.html#csv.Sniffer\n",
    "    # dialect = csv.Sniffer().sniff(f.read(6000))\n",
    "    delimiter = dialect.delimiter\n",
    "    print(delimiter)\n",
    "    f.seek(0) ### revenir au début du fichier\n",
    "    csv_f = csv.reader(f, dialect ) ### delimiter=delimiter\n",
    "    print_n_rows(csv_f, 5)\n",
    "    \n",
    "# dir(csv_f)"
   ]
  },
  {
   "cell_type": "code",
   "execution_count": 187,
   "metadata": {},
   "outputs": [],
   "source": [
    "csv_list = []\n",
    "with open(chemin_f, 'r') as f:\n",
    "    csv_f = csv.reader(f, delimiter='|')\n",
    "    for r in csv_f:\n",
    "        csv_list.append(r)"
   ]
  },
  {
   "cell_type": "code",
   "execution_count": 207,
   "metadata": {},
   "outputs": [
    {
     "data": {
      "text/plain": [
       "['Nom',\n",
       " 'Prénoms',\n",
       " 'naissance',\n",
       " 'décès',\n",
       " 'Nation',\n",
       " 'Diocèse',\n",
       " \"Collège d'études\",\n",
       " 'année de référence',\n",
       " 'Collège du premier poste',\n",
       " 'Fonction du premier poste',\n",
       " '1ère année attestée du 1er poste',\n",
       " 'date ultime attestée du 1er poste',\n",
       " 'Collège du deuxième poste',\n",
       " 'Fonction du deuxième poste',\n",
       " '1ère date attestée du deuxième poste',\n",
       " 'date ultime attestée du deuxième poste',\n",
       " 'Collège du troisème poste',\n",
       " 'Fonction du troisième poste',\n",
       " '1ère date attestée du troisième poste',\n",
       " 'Date ultime attestée du troisième poste',\n",
       " 'Autres informations',\n",
       " 'Premier grade connu',\n",
       " 'Second grade connu',\n",
       " 'Ordre sacré',\n",
       " 'Bénéfices',\n",
       " 'Engagement janséniste',\n",
       " 'Serment civique',\n",
       " 'Fonctions universitaires',\n",
       " 'Publications',\n",
       " 'Référence de la source 1',\n",
       " 'Référence de la source 2',\n",
       " 'Référence de la source 3',\n",
       " 'Autres références de source']"
      ]
     },
     "execution_count": 207,
     "metadata": {},
     "output_type": "execute_result"
    }
   ],
   "source": [
    "csv_list[0]"
   ]
  },
  {
   "cell_type": "markdown",
   "metadata": {},
   "source": [
    "## Les 'Nations'"
   ]
  },
  {
   "cell_type": "code",
   "execution_count": 189,
   "metadata": {},
   "outputs": [],
   "source": [
    "nations = []\n",
    "for r in csv_list[1:]:\n",
    "    nations.append(r[4].strip())"
   ]
  },
  {
   "cell_type": "code",
   "execution_count": 190,
   "metadata": {},
   "outputs": [
    {
     "name": "stdout",
     "output_type": "stream",
     "text": [
      "1740\n"
     ]
    },
    {
     "data": {
      "text/plain": [
       "['Normandie', 'France', 'Normandie']"
      ]
     },
     "execution_count": 190,
     "metadata": {},
     "output_type": "execute_result"
    }
   ],
   "source": [
    "print(len(nations))\n",
    "nations[:3]"
   ]
  },
  {
   "cell_type": "code",
   "execution_count": 191,
   "metadata": {},
   "outputs": [],
   "source": [
    "nations.sort()"
   ]
  },
  {
   "cell_type": "code",
   "execution_count": 192,
   "metadata": {},
   "outputs": [],
   "source": [
    "counter_nations = Counter(nations)\n",
    "grouped_nations = list(zip(counter_nations.keys(), counter_nations.values()))"
   ]
  },
  {
   "cell_type": "code",
   "execution_count": 193,
   "metadata": {},
   "outputs": [],
   "source": [
    "grouped_nations = [[gn[0], gn[1]] if gn[0] else ['_no_value', gn[1]] for gn in grouped_nations]"
   ]
  },
  {
   "cell_type": "code",
   "execution_count": 194,
   "metadata": {},
   "outputs": [
    {
     "data": {
      "text/plain": [
       "[['_no_value', 362],\n",
       " ['Allemagne', 21],\n",
       " ['France', 1031],\n",
       " ['Normandie', 240],\n",
       " ['Picardie', 86]]"
      ]
     },
     "execution_count": 194,
     "metadata": {},
     "output_type": "execute_result"
    }
   ],
   "source": [
    "grouped_nations"
   ]
  },
  {
   "cell_type": "code",
   "execution_count": 195,
   "metadata": {},
   "outputs": [
    {
     "data": {
      "image/png": "[encoded data removed]",
      "text/plain": [
       "<Figure size 432x288 with 1 Axes>"
      ]
     },
     "metadata": {
      "needs_background": "light"
     },
     "output_type": "display_data"
    }
   ],
   "source": [
    "objects = [l[0] for l in grouped_nations]\n",
    "eff = [l[1] for l in grouped_nations]\n",
    "\n",
    "p1 = plt.bar(objects, eff) # , yerr=menStd\n",
    "\n",
    "plt.ylabel('Effectif')\n",
    "plt.title('Personnes par nation')\n",
    "#plt.xticks(objects)\n",
    "#plt.yticks(np.arange(0, 81, 10))\n",
    "# plt.legend(eff)\n",
    "# supported formats: eps, pdf, pgf, png, ps, raw, rgba, svg, svgz\n",
    "#plt.savefig('exported_pictures/effectifs_naissances_par_annee.png', dpi=100, bbox_inches = \"tight\") #pdf, svg\n",
    "plt.show()\n"
   ]
  },
  {
   "cell_type": "markdown",
   "metadata": {},
   "source": [
    "## Exploration des dates de naissance"
   ]
  },
  {
   "cell_type": "code",
   "execution_count": 202,
   "metadata": {},
   "outputs": [],
   "source": [
    "naissances = []\n",
    "for r in csv_list[1:]:\n",
    "    naissances.append(r[3].strip())"
   ]
  },
  {
   "cell_type": "code",
   "execution_count": 203,
   "metadata": {},
   "outputs": [
    {
     "name": "stdout",
     "output_type": "stream",
     "text": [
      "1740\n"
     ]
    },
    {
     "data": {
      "text/plain": [
       "['', '', '1714', '1792', '']"
      ]
     },
     "execution_count": 203,
     "metadata": {},
     "output_type": "execute_result"
    }
   ],
   "source": [
    "print(len(naissances))\n",
    "naissances[:5]"
   ]
  },
  {
   "cell_type": "code",
   "execution_count": 204,
   "metadata": {},
   "outputs": [],
   "source": [
    "naissances.sort()"
   ]
  },
  {
   "cell_type": "code",
   "execution_count": 205,
   "metadata": {},
   "outputs": [],
   "source": [
    "values_naissances = ['_value' if n else '_no_value' for n in naissances]"
   ]
  },
  {
   "cell_type": "code",
   "execution_count": 206,
   "metadata": {},
   "outputs": [
    {
     "data": {
      "text/plain": [
       "Counter({'_no_value': 1554, '_value': 186})"
      ]
     },
     "execution_count": 206,
     "metadata": {},
     "output_type": "execute_result"
    }
   ],
   "source": [
    "counter_values_naissances = Counter(values_naissances)\n",
    "counter_values_naissances"
   ]
  },
  {
   "cell_type": "markdown",
   "metadata": {},
   "source": [
    "## Exploration des dates de référence"
   ]
  },
  {
   "cell_type": "markdown",
   "metadata": {},
   "source": [
    "\"La « 1ère date de référence » correspond à l’année de demande officielle d’une régence devant la nation (qui marque le début théorique de la carrière) ou bien, par défaut, la première année où l’exercice est attesté sur un poste, ou encore, en l’absence de l’une de ces deux informations, l’année où l’individu est mentionné pour la première fois dans une source. Si le contenu de la rubrique est donc hétérogène, ceci a semblé la moins mauvaise solution pour situer chronologiquement chaque individu, la présentation d’une notice sans aucune date étant exclue.\" (http://rhe.ish-lyon.cnrs.fr/?q=pfap)"
   ]
  },
  {
   "cell_type": "code",
   "execution_count": 208,
   "metadata": {},
   "outputs": [],
   "source": [
    "annees_reference = []\n",
    "for r in csv_list[1:]:\n",
    "    ### manquent deux valeurs\n",
    "    if r[7]:\n",
    "        annees_reference.append(r[7].strip())"
   ]
  },
  {
   "cell_type": "code",
   "execution_count": 209,
   "metadata": {},
   "outputs": [
    {
     "name": "stdout",
     "output_type": "stream",
     "text": [
      "1738\n"
     ]
    },
    {
     "data": {
      "text/plain": [
       "['1756', '1712', '1696']"
      ]
     },
     "execution_count": 209,
     "metadata": {},
     "output_type": "execute_result"
    }
   ],
   "source": [
    "print(len(annees_reference))\n",
    "annees_reference[:3]"
   ]
  },
  {
   "cell_type": "code",
   "execution_count": 210,
   "metadata": {},
   "outputs": [],
   "source": [
    "annees_reference.sort()"
   ]
  },
  {
   "cell_type": "code",
   "execution_count": 211,
   "metadata": {},
   "outputs": [
    {
     "data": {
      "text/plain": [
       "('1793', '1568')"
      ]
     },
     "execution_count": 211,
     "metadata": {},
     "output_type": "execute_result"
    }
   ],
   "source": [
    "max(annees_reference), min(annees_reference)"
   ]
  },
  {
   "cell_type": "code",
   "execution_count": 212,
   "metadata": {},
   "outputs": [],
   "source": [
    "counter_annees_reference = Counter(annees_reference)\n",
    "grouped_annees_reference = list(zip(counter_annees_reference.keys(), counter_annees_reference.values()))"
   ]
  },
  {
   "cell_type": "code",
   "execution_count": 213,
   "metadata": {},
   "outputs": [
    {
     "data": {
      "text/plain": [
       "[[1568, 1], [1584, 1], [1588, 1], [1589, 1], [1590, 1]]"
      ]
     },
     "execution_count": 213,
     "metadata": {},
     "output_type": "execute_result"
    }
   ],
   "source": [
    "grouped_annees_reference = [[int(i[0]), i[1]] for i in grouped_annees_reference]\n",
    "grouped_annees_reference[:5]"
   ]
  },
  {
   "cell_type": "code",
   "execution_count": 214,
   "metadata": {},
   "outputs": [
    {
     "data": {
      "image/png": "[encoded data removed]",
      "text/plain": [
       "<Figure size 1152x576 with 1 Axes>"
      ]
     },
     "metadata": {
      "needs_background": "light"
     },
     "output_type": "display_data"
    }
   ],
   "source": [
    "objects = [l[0] for l in grouped_annees_reference]\n",
    "eff = [l[1] for l in grouped_annees_reference]\n",
    "\n",
    "p1 = plt.bar(objects, eff) # , yerr=menStd\n",
    "\n",
    "#plt.xticks('objects')\n",
    "plt.ylabel('Effectif')\n",
    "plt.title('Références par annee')\n",
    "#plt.yticks(np.arange(0, 81, 10))\n",
    "# plt.legend(eff)\n",
    "plt.gcf().set_size_inches(16, 8)\n",
    "plt.gca().axes.get_xaxis().set_visible(False)\n",
    "# supported formats: eps, pdf, pgf, png, ps, raw, rgba, svg, svgz\n",
    "#plt.savefig('exported_pictures/effectifs_naissances_par_annee.png', dpi=100, bbox_inches = \"tight\") #pdf, svg\n",
    "plt.show()\n"
   ]
  },
  {
   "cell_type": "code",
   "execution_count": 215,
   "metadata": {},
   "outputs": [
    {
     "data": {
      "text/plain": [
       "[[1652, 77], [1691, 34], [1739, 32], [1791, 31]]"
      ]
     },
     "execution_count": 215,
     "metadata": {},
     "output_type": "execute_result"
    }
   ],
   "source": [
    "### Documentation:\n",
    "# https://stackoverflow.com/questions/6294179/how-to-find-all-occurrences-of-an-element-in-a-list\n",
    "    \n",
    "selected = [i for i in grouped_annees_reference if  i[1] > 30]\n",
    "selected"
   ]
  },
  {
   "cell_type": "code",
   "execution_count": 216,
   "metadata": {},
   "outputs": [
    {
     "data": {
      "text/plain": [
       "[['Amoloy', '', 'Beauvais', 'professeur'],\n",
       " ['Aubert', '', 'La Marche', 'professeur'],\n",
       " ['Barbey (Barbay)', '', 'Reims', 'professeur de philosophie'],\n",
       " ['Baudier', '', 'Plessis', 'professeur de philosophie'],\n",
       " ['Belin', '', 'Beauvais', 'professeur']]"
      ]
     },
     "execution_count": 216,
     "metadata": {},
     "output_type": "execute_result"
    }
   ],
   "source": [
    "selected = [i for i in csv_list if i[7] == str(1652)]\n",
    "[[i[0],i[1],i[8],i[9]] for i in selected[:5]]"
   ]
  },
  {
   "cell_type": "code",
   "execution_count": null,
   "metadata": {},
   "outputs": [],
   "source": []
  },
  {
   "cell_type": "code",
   "execution_count": 217,
   "metadata": {},
   "outputs": [],
   "source": [
    "d_list = []\n",
    "period = 20\n",
    "d_start = 1551\n",
    "i = 0\n",
    "d_list = []\n",
    "d_list.append(d_start)\n",
    "\n",
    "while i < 12:\n",
    "    d_start = d_start + period\n",
    "    d_list.append(d_start)\n",
    "    i += 1"
   ]
  },
  {
   "cell_type": "code",
   "execution_count": 218,
   "metadata": {},
   "outputs": [
    {
     "data": {
      "text/plain": [
       "[1551, 1571, 1591, 1611, 1631, 1651, 1671, 1691, 1711, 1731, 1751, 1771, 1791]"
      ]
     },
     "execution_count": 218,
     "metadata": {},
     "output_type": "execute_result"
    }
   ],
   "source": [
    "d_list"
   ]
  },
  {
   "cell_type": "code",
   "execution_count": 219,
   "metadata": {},
   "outputs": [],
   "source": [
    "i_list = []\n",
    "for i in d_list:\n",
    "    i_n = 0\n",
    "    for l in grouped_annees_reference:\n",
    "        if l[0] >= i and l[0] < (i + 20):\n",
    "            i_n = i_n + l[1]\n",
    "    i_list.append([i, i_n])        "
   ]
  },
  {
   "cell_type": "code",
   "execution_count": 220,
   "metadata": {},
   "outputs": [
    {
     "data": {
      "text/plain": [
       "[[1551, 1],\n",
       " [1571, 4],\n",
       " [1591, 30],\n",
       " [1611, 37],\n",
       " [1631, 18],\n",
       " [1651, 181],\n",
       " [1671, 113],\n",
       " [1691, 307],\n",
       " [1711, 294],\n",
       " [1731, 337],\n",
       " [1751, 258],\n",
       " [1771, 126],\n",
       " [1791, 32]]"
      ]
     },
     "execution_count": 220,
     "metadata": {},
     "output_type": "execute_result"
    }
   ],
   "source": [
    "i_list"
   ]
  },
  {
   "cell_type": "code",
   "execution_count": 221,
   "metadata": {},
   "outputs": [
    {
     "data": {
      "image/png": "[encoded data removed]",
      "text/plain": [
       "<Figure size 1152x576 with 1 Axes>"
      ]
     },
     "metadata": {
      "needs_background": "light"
     },
     "output_type": "display_data"
    }
   ],
   "source": [
    "objects = [str(l[0]) for l in i_list]\n",
    "eff = [l[1] for l in i_list]\n",
    "\n",
    "p1 = plt.bar(objects, eff) # , yerr=menStd\n",
    "\n",
    "plt.ylabel('Effectif')\n",
    "plt.title('Naissances par annee')\n",
    "#plt.xticks(objects)\n",
    "#plt.yticks(np.arange(0, 81, 10))\n",
    "# plt.legend(eff)\n",
    "plt.gcf().set_size_inches(16, 8)\n",
    "plt.gca().axes.get_xaxis().set_visible(True)\n",
    "# supported formats: eps, pdf, pgf, png, ps, raw, rgba, svg, svgz\n",
    "plt.savefig('exported_pictures/effectifs_annees_reference_par_periode.png', dpi=100, bbox_inches = \"tight\") #pdf, svg\n",
    "plt.show()\n"
   ]
  }
 ],
 "metadata": {
  "kernelspec": {
   "display_name": "py37_cours2019",
   "language": "python",
   "name": "py37_cours2019"
  },
  "language_info": {
   "codemirror_mode": {
    "name": "ipython",
    "version": 3
   },
   "file_extension": ".py",
   "mimetype": "text/x-python",
   "name": "python",
   "nbconvert_exporter": "python",
   "pygments_lexer": "ipython3",
   "version": "3.7.3"
  }
 },
 "nbformat": 4,
 "nbformat_minor": 4
}
