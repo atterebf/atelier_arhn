{
 "cells": [
  {
   "cell_type": "markdown",
   "metadata": {},
   "source": [
    "# Explorer des données CSV avec les listes : Répertoire des professeurs et principaux de la faculté des arts de Paris aux XVIIe et XVIIIe siècles"
   ]
  },
  {
   "cell_type": "markdown",
   "metadata": {},
   "source": [
    "## Introduction\n",
    "\n",
    "Les données utilisées dans cet exercice ont été produites par  Boris Noguès.\n",
    "\n",
    "\n",
    "Boris Noguès, «[Répertoire des professeurs et principaux de la faculté des arts de Paris aux XVIIe et XVIIIe siècles», novembre 2008](http://rhe.ish-lyon.cnrs.fr/?q=pfap) (consulté le 12 Mai 2020)\n",
    "Droits d'auteur : [Creative Commons by-nc-sa 3.0 FR](http://creativecommons.org/licenses/by-nc-sa/3.0/fr/)\n",
    "\n",
    "\n",
    "\n",
    "\n",
    "Préalablement à l'exploration avec ce carnet:\n",
    "\n",
    "* Ouvrir le [fichier Excel original](http://phn-wiki.ish-lyon.cnrs.fr/lib/exe/fetch.php?media=fairdata:pfap.xls.zip) dans Libre Office\n",
    "* Sauvegarder une copie du fichier au format CSV\n",
    "* Bien paramétrer la sortie CSV: encodage caractères UTF-8, ',' ou '|' comme séparateur de champ, '\"' comme séparateur de châine de caractères\n",
    "* Le fichier se trouve ici: 'exemples/pfap.csv'"
   ]
  },
  {
   "cell_type": "markdown",
   "metadata": {},
   "source": [
    "## Documentation Python\n",
    "\n",
    "La finalité de l'exercice est d'apprendre à explorer un fichier au format CSV tout en utilisant les listes Python et outils associés.\n",
    "\n",
    "Cf. ces pages pour la documentation relative aux bibliothèques et fonctions utilisées:\n",
    "\n",
    "* [Python CSV](https://docs.python.org/3.6/library/csv.html)\n",
    "* [Python lists](https://docs.python.org/3.6/tutorial/introduction.html#lists)\n",
    "* [Pyplot tutorial](https://matplotlib.org/tutorials/introductory/pyplot.html)\n",
    "  \n",
    "Ultérieurement on présentera les mêmes opérations effectuées avec la librairie Pandas.\n",
    "\n",
    "Prérequis à l'utilisation de ce carnet: avoir assimilé les méthodes et concepts présentés dans les deux formations en ligne ci-dessous.\n",
    "* [Initiez-vous à Python pour l'analyse de données](https://openclassrooms.com/fr/courses/6204541-initiez-vous-a-python-pour-lanalyse-de-donnees)\n",
    "* [Utilisation avancée des listes en Python](https://openclassrooms.com/fr/courses/1206331-utilisation-avancee-des-listes-en-python)"
   ]
  },
  {
   "cell_type": "markdown",
   "metadata": {},
   "source": [
    "## Gestion des librairies\n",
    "\n",
    "Utiliser l'environnement Conda : 'atelier', activer le kernel relatif, avec le label: \"Py 3.7. atelier\"\n",
    "\n",
    "À ce sujet, voir cette page de documentation : [Créer et gérer un environnement Conda](http://phn-wiki.ish-lyon.cnrs.fr/doku.php?id=python:environnement_conda)"
   ]
  },
  {
   "cell_type": "code",
   "execution_count": null,
   "metadata": {},
   "outputs": [],
   "source": [
    "import csv\n",
    "import matplotlib.pyplot as plt\n",
    "\n",
    "from collections import Counter\n",
    "from operator import itemgetter"
   ]
  },
  {
   "cell_type": "markdown",
   "metadata": {},
   "source": [
    "## Importation du fichier CSV"
   ]
  },
  {
   "cell_type": "code",
   "execution_count": null,
   "metadata": {},
   "outputs": [],
   "source": [
    "chemin_f = 'exemples/pfap.csv'\n",
    "# chemin_f = 'exemples/pfap.xls'  -- > UnicodeDecodeError: 'utf-8' codec can't decode byte 0xd0 in position 0: invalid continuation byte"
   ]
  },
  {
   "cell_type": "code",
   "execution_count": null,
   "metadata": {},
   "outputs": [],
   "source": [
    "def print_n_rows(file, n):\n",
    "    i = 0\n",
    "    for row in file:\n",
    "        if i < n:\n",
    "            print(row)\n",
    "        i += 1    \n",
    "    return 'Done !'"
   ]
  },
  {
   "cell_type": "code",
   "execution_count": null,
   "metadata": {},
   "outputs": [],
   "source": [
    "csv_list = []\n",
    "with open(chemin_f, 'r') as f:\n",
    "    ### Documentation de sniffer -> mettre valeur plus élevée de caractères\n",
    "    #  https://docs.python.org/3.6/library/csv.html#csv.Sniffer\n",
    "    dialect = csv.Sniffer().sniff(f.read(6000))\n",
    "    delimiter = dialect.delimiter\n",
    "    print('Séparateur : ' + delimiter + '\\n')\n",
    "    ### Inspect\n",
    "    f.seek(0) ### revenir au début du fichier\n",
    "    csv_f = csv.reader(f, dialect ) ### delimiter=delimiter\n",
    "    #print(csv_f[:5])  ### error : '_csv.reader' object is not subscriptable\n",
    "    print_n_rows(csv_f, 3)\n",
    "\n",
    "    ### Create output list\n",
    "    f.seek(0)\n",
    "    csv_f = csv.reader(f, dialect )\n",
    "    for r in csv_f:\n",
    "        csv_list.append(r)\n",
    "    "
   ]
  },
  {
   "cell_type": "code",
   "execution_count": null,
   "metadata": {},
   "outputs": [],
   "source": [
    "csv_list = []\n",
    "with open(chemin_f, 'r') as f:\n",
    "    csv_f = csv.reader(f, delimiter='|')\n",
    "    for r in csv_f:\n",
    "        csv_list.append(r)"
   ]
  },
  {
   "cell_type": "code",
   "execution_count": null,
   "metadata": {},
   "outputs": [],
   "source": [
    "print(csv_list[1:3])"
   ]
  },
  {
   "cell_type": "markdown",
   "metadata": {},
   "source": [
    "## Les 'Nations'"
   ]
  },
  {
   "cell_type": "code",
   "execution_count": null,
   "metadata": {},
   "outputs": [],
   "source": [
    "nations = []\n",
    "for r in csv_list[1:]:\n",
    "    nations.append(r[4].strip())"
   ]
  },
  {
   "cell_type": "code",
   "execution_count": null,
   "metadata": {},
   "outputs": [],
   "source": [
    "print(len(nations))\n",
    "nations[:3]"
   ]
  },
  {
   "cell_type": "code",
   "execution_count": null,
   "metadata": {},
   "outputs": [],
   "source": [
    "nations.sort()"
   ]
  },
  {
   "cell_type": "code",
   "execution_count": null,
   "metadata": {},
   "outputs": [],
   "source": [
    "counter_nations = Counter(nations)\n",
    "grouped_nations = list(zip(counter_nations.keys(), counter_nations.values()))"
   ]
  },
  {
   "cell_type": "code",
   "execution_count": null,
   "metadata": {},
   "outputs": [],
   "source": [
    "grouped_nations = [[gn[0], gn[1]] if gn[0] else ['_no_value', gn[1]] for gn in grouped_nations]"
   ]
  },
  {
   "cell_type": "code",
   "execution_count": null,
   "metadata": {},
   "outputs": [],
   "source": [
    "grouped_nations"
   ]
  },
  {
   "cell_type": "code",
   "execution_count": null,
   "metadata": {},
   "outputs": [],
   "source": [
    "objects = [l[0] for l in grouped_nations]\n",
    "eff = [l[1] for l in grouped_nations]\n",
    "\n",
    "p1 = plt.bar(objects, eff) # , yerr=menStd\n",
    "\n",
    "plt.ylabel('Effectif')\n",
    "plt.title('Personnes par nation')\n",
    "plt.show()"
   ]
  },
  {
   "cell_type": "markdown",
   "metadata": {},
   "source": [
    "## Exploration des dates de naissance"
   ]
  },
  {
   "cell_type": "code",
   "execution_count": null,
   "metadata": {},
   "outputs": [],
   "source": [
    "naissances = []\n",
    "for r in csv_list[1:]:\n",
    "    naissances.append(r[3].strip())"
   ]
  },
  {
   "cell_type": "code",
   "execution_count": null,
   "metadata": {},
   "outputs": [],
   "source": [
    "print(len(naissances))\n",
    "naissances[:5]"
   ]
  },
  {
   "cell_type": "code",
   "execution_count": null,
   "metadata": {},
   "outputs": [],
   "source": [
    "naissances.sort()"
   ]
  },
  {
   "cell_type": "code",
   "execution_count": null,
   "metadata": {},
   "outputs": [],
   "source": [
    "values_naissances = ['_value' if n else '_no_value' for n in naissances]"
   ]
  },
  {
   "cell_type": "code",
   "execution_count": null,
   "metadata": {},
   "outputs": [],
   "source": [
    "counter_values_naissances = Counter(values_naissances)\n",
    "counter_values_naissances"
   ]
  },
  {
   "cell_type": "markdown",
   "metadata": {},
   "source": [
    "## Exploration des dates de référence"
   ]
  },
  {
   "cell_type": "markdown",
   "metadata": {},
   "source": [
    "\"La « 1ère date de référence » correspond à l’année de demande officielle d’une régence devant la nation (qui marque le début théorique de la carrière) ou bien, par défaut, la première année où l’exercice est attesté sur un poste, ou encore, en l’absence de l’une de ces deux informations, l’année où l’individu est mentionné pour la première fois dans une source. Si le contenu de la rubrique est donc hétérogène, ceci a semblé la moins mauvaise solution pour situer chronologiquement chaque individu, la présentation d’une notice sans aucune date étant exclue.\" (http://rhe.ish-lyon.cnrs.fr/?q=pfap)"
   ]
  },
  {
   "cell_type": "code",
   "execution_count": null,
   "metadata": {},
   "outputs": [],
   "source": [
    "annees_reference = []\n",
    "for r in csv_list[1:]:\n",
    "    ### manquent deux valeurs\n",
    "    if r[7]:\n",
    "        annees_reference.append(r[7].strip())"
   ]
  },
  {
   "cell_type": "code",
   "execution_count": null,
   "metadata": {},
   "outputs": [],
   "source": [
    "print(len(annees_reference))\n",
    "annees_reference[:3]"
   ]
  },
  {
   "cell_type": "code",
   "execution_count": null,
   "metadata": {},
   "outputs": [],
   "source": [
    "annees_reference.sort()"
   ]
  },
  {
   "cell_type": "code",
   "execution_count": null,
   "metadata": {},
   "outputs": [],
   "source": [
    "max(annees_reference), min(annees_reference)"
   ]
  },
  {
   "cell_type": "code",
   "execution_count": null,
   "metadata": {},
   "outputs": [],
   "source": [
    "counter_annees_reference = Counter(annees_reference)\n",
    "grouped_annees_reference = list(zip(counter_annees_reference.keys(), counter_annees_reference.values()))"
   ]
  },
  {
   "cell_type": "code",
   "execution_count": null,
   "metadata": {},
   "outputs": [],
   "source": [
    "grouped_annees_reference = [[int(i[0]), i[1]] for i in grouped_annees_reference]\n",
    "grouped_annees_reference[:5]"
   ]
  },
  {
   "cell_type": "code",
   "execution_count": null,
   "metadata": {},
   "outputs": [],
   "source": [
    "d_list = []\n",
    "period = 20\n",
    "d_start = 1551\n",
    "i = 0\n",
    "d_list = []\n",
    "d_list.append(d_start)\n",
    "\n",
    "while i < 12:\n",
    "    d_start = d_start + period\n",
    "    d_list.append(d_start)\n",
    "    i += 1"
   ]
  },
  {
   "cell_type": "code",
   "execution_count": null,
   "metadata": {},
   "outputs": [],
   "source": [
    "d_list"
   ]
  },
  {
   "cell_type": "code",
   "execution_count": null,
   "metadata": {},
   "outputs": [],
   "source": [
    "objects = [l[0] for l in grouped_annees_reference]\n",
    "eff = [l[1] for l in grouped_annees_reference]\n",
    "\n",
    "p1 = plt.bar(objects, eff)\n",
    "\n",
    "plt.xticks(d_list)\n",
    "plt.ylabel('Effectif')\n",
    "plt.title('Références par annee')\n",
    "plt.gcf().set_size_inches(16, 8)\n",
    "#plt.gca().axes.get_xaxis().set_visible(False)\n",
    "# supported formats: eps, pdf, pgf, png, ps, raw, rgba, svg, svgz\n",
    "#plt.savefig('exported_pictures/effectifs_naissances_par_annee.png', dpi=100, bbox_inches = \"tight\") #pdf, svg\n",
    "plt.show()\n"
   ]
  },
  {
   "cell_type": "code",
   "execution_count": null,
   "metadata": {},
   "outputs": [],
   "source": [
    "### Documentation:\n",
    "# https://stackoverflow.com/questions/6294179/how-to-find-all-occurrences-of-an-element-in-a-list\n",
    "    \n",
    "selected = [i for i in grouped_annees_reference if  i[1] > 30]\n",
    "selected"
   ]
  },
  {
   "cell_type": "code",
   "execution_count": null,
   "metadata": {},
   "outputs": [],
   "source": [
    "selected = [i for i in csv_list if i[7] == str(1652)]\n",
    "[[i[0],i[1],i[8],i[9]] for i in selected[:5]]"
   ]
  },
  {
   "cell_type": "code",
   "execution_count": null,
   "metadata": {},
   "outputs": [],
   "source": [
    "i_list = []\n",
    "for i in d_list:\n",
    "    i_n = 0\n",
    "    for l in grouped_annees_reference:\n",
    "        if l[0] >= i and l[0] < (i + 20):\n",
    "            i_n = i_n + l[1]\n",
    "    i_list.append([i, i_n])        "
   ]
  },
  {
   "cell_type": "code",
   "execution_count": null,
   "metadata": {},
   "outputs": [],
   "source": [
    "i_list"
   ]
  },
  {
   "cell_type": "code",
   "execution_count": null,
   "metadata": {},
   "outputs": [],
   "source": [
    "objects = [str(l[0]) for l in i_list]\n",
    "eff = [l[1] for l in i_list]\n",
    "\n",
    "p1 = plt.bar(objects, eff)\n",
    "\n",
    "plt.ylabel('Effectif')\n",
    "plt.title('Naissances par annee')\n",
    "plt.gcf().set_size_inches(16, 8)\n",
    "# supported formats: eps, pdf, pgf, png, ps, raw, rgba, svg, svgz\n",
    "plt.savefig('exported_pictures/effectifs_annees_reference_par_periode.png', dpi=100, bbox_inches = \"tight\") #pdf, svg\n",
    "plt.show()\n"
   ]
  },
  {
   "cell_type": "code",
   "execution_count": null,
   "metadata": {},
   "outputs": [],
   "source": []
  }
 ],
 "metadata": {
  "kernelspec": {
   "display_name": "py37_atelier",
   "language": "python",
   "name": "atelier"
  },
  "language_info": {
   "codemirror_mode": {
    "name": "ipython",
    "version": 3
   },
   "file_extension": ".py",
   "mimetype": "text/x-python",
   "name": "python",
   "nbconvert_exporter": "python",
   "pygments_lexer": "ipython3",
   "version": "3.7.6"
  }
 },
 "nbformat": 4,
 "nbformat_minor": 4
}
