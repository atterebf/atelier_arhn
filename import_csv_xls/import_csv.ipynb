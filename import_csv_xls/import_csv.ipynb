{
 "cells": [
  {
   "cell_type": "markdown",
   "metadata": {},
   "source": [
    "# Explorer un fichier CSV avec Pandas : Répertoire des professeurs et principaux de la faculté des arts de Paris aux XVIIe et XVIIIe siècles"
   ]
  },
  {
   "cell_type": "markdown",
   "metadata": {},
   "source": [
    "## Introduction\n",
    "\n",
    "Les données utilisées dans cet exercice ont été produites par  Boris Noguès.\n",
    "\n",
    "\n",
    "Boris Noguès, «[Répertoire des professeurs et principaux de la faculté des arts de Paris aux XVIIe et XVIIIe siècles», novembre 2008](http://rhe.ish-lyon.cnrs.fr/?q=pfap) (consulté le 12 Mai 2020)\n",
    "Droits d'auteur : [Creative Commons by-nc-sa 3.0 FR](http://creativecommons.org/licenses/by-nc-sa/3.0/fr/)\n",
    "\n",
    "\n",
    "\n",
    "\n",
    "Préalablement à l'exploration avec ce carnet:\n",
    "\n",
    "* Ouvrir le [fichier Excel original](http://phn-wiki.ish-lyon.cnrs.fr/lib/exe/fetch.php?media=fairdata:pfap.xls.zip) dans Libre Office\n",
    "* Sauvegarder une copie du fichier au format CSV\n",
    "* Bien paramétrer la sortie CSV: encodage caractères UTF-8, ',' ou '|' comme séparateur de champ, '\"' comme séparateur de châine de caractères\n",
    "* Le fichier se trouve ici: 'exemples/pfap.csv'"
   ]
  },
  {
   "cell_type": "markdown",
   "metadata": {},
   "source": [
    "## Documentation Python\n",
    "\n",
    "La finalité de l'exercice est d'apprendre à explorer un fichier au format CSV tout en utilisant les listes Python et outils associés.\n",
    "\n",
    "Cf. ces pages pour la documentation relative aux bibliothèques et fonctions utilisées:\n",
    "\n",
    "* [Ten minutes to Pandas](https://pandas.pydata.org/pandas-docs/stable/getting_started/10min.html)\n",
    "* [Vizalisation with Pandas](https://pandas.pydata.org/pandas-docs/version/1.0.3/user_guide/visualization.html)\n",
    "* [Pyplot tutorial](https://matplotlib.org/tutorials/introductory/pyplot.html)\n",
    "  \n",
    "Ultérieurement on présentera les mêmes opérations effectuées avec la librairie Pandas.\n",
    "\n",
    "Prérequis à l'utilisation de ce carnet: avoir assimilé les méthodes et concepts présentés dans les deux formations en ligne ci-dessous.\n",
    "* [Initiez-vous à Python pour l'analyse de données](https://openclassrooms.com/fr/courses/6204541-initiez-vous-a-python-pour-lanalyse-de-donnees)\n",
    "* [Utilisation avancée des listes en Python](https://openclassrooms.com/fr/courses/1206331-utilisation-avancee-des-listes-en-python)"
   ]
  },
  {
   "cell_type": "markdown",
   "metadata": {},
   "source": [
    "## Librairies et fonctions\n",
    "\n",
    "Introduction à l'utilisation de la librairie Pandas: [documentation officielle](https://pandas.pydata.org/pandas-docs/stable/getting_started/10min.html)."
   ]
  },
  {
   "cell_type": "code",
   "execution_count": null,
   "metadata": {},
   "outputs": [],
   "source": [
    "import csv\n",
    "import sqlite3 as sql\n",
    "import pandas as pd\n",
    "import pprint\n",
    "import time\n",
    "import re\n",
    "import json"
   ]
  },
  {
   "cell_type": "code",
   "execution_count": null,
   "metadata": {},
   "outputs": [],
   "source": [
    "###\n",
    "## And for newer versions of Python (3.6+, https://www.python.org/dev/peps/pep-0498/ purely for completeness), you can use the newer string formatting, ie.\n",
    "\n",
    "def get_time_formatted():\n",
    "    is_now = time.strftime('%Y-%m-%d %H:%M:%S')\n",
    "    # is_now_formatted = str({is_now:%Y-%m-%d %H:%M:%S})\n",
    "    return is_now"
   ]
  },
  {
   "cell_type": "code",
   "execution_count": null,
   "metadata": {},
   "outputs": [],
   "source": [
    "get_time_formatted()"
   ]
  },
  {
   "cell_type": "code",
   "execution_count": null,
   "metadata": {},
   "outputs": [],
   "source": [
    "### Delete all trailing whitespaces. – Documentation:\n",
    "#  https://stackoverflow.com/questions/40950310/strip-trim-all-strings-of-a-dataframe\n",
    "def trim_all_columns(df):\n",
    "    \"\"\"\n",
    "    Trim whitespace from ends of each value across all series in dataframe\n",
    "    \"\"\"\n",
    "    trim_strings = lambda x: x.strip() if isinstance(x, str) else x\n",
    "    return df.applymap(trim_strings)"
   ]
  },
  {
   "cell_type": "markdown",
   "metadata": {},
   "source": [
    "## Préparation "
   ]
  },
  {
   "cell_type": "code",
   "execution_count": null,
   "metadata": {},
   "outputs": [],
   "source": [
    "### Ajouter le dossier parent dans le chemin de recherche des modules \n",
    "# Solution retenue depuis cette doc:\n",
    "# https://stackoverflow.com/questions/714063/importing-modules-from-parent-folder/11158224\n",
    "## Autres solutions également proposées\n",
    "\n",
    "import os,sys,inspect\n",
    "currentdir = os.path.dirname(os.path.abspath(inspect.getfile(inspect.currentframe())))\n",
    "parentdir = os.path.dirname(currentdir)\n",
    "sys.path.insert(0,parentdir) "
   ]
  },
  {
   "cell_type": "code",
   "execution_count": null,
   "metadata": {},
   "outputs": [],
   "source": [
    "parentdir"
   ]
  },
  {
   "cell_type": "code",
   "execution_count": null,
   "metadata": {},
   "outputs": [],
   "source": [
    "currentdir"
   ]
  },
  {
   "cell_type": "code",
   "execution_count": null,
   "metadata": {},
   "outputs": [],
   "source": [
    "### Enseignants des collèges\n",
    "file_path = \"exemples/\"\n",
    "file_name = \"pfap\""
   ]
  },
  {
   "cell_type": "code",
   "execution_count": null,
   "metadata": {},
   "outputs": [],
   "source": [
    "file_suffix = '.xls'  # '.xlsx'  '.csv' '.xls'\n",
    "### for xls you need to install the dependency : xlrd >= 1.0.0"
   ]
  },
  {
   "cell_type": "code",
   "execution_count": null,
   "metadata": {},
   "outputs": [],
   "source": [
    "file_address = file_path + file_name + file_suffix\n",
    "file_address"
   ]
  },
  {
   "cell_type": "markdown",
   "metadata": {},
   "source": [
    "### Créée l'objet *pd_data* et la liste des colonnes: *columns_new_list*"
   ]
  },
  {
   "cell_type": "code",
   "execution_count": null,
   "metadata": {},
   "outputs": [],
   "source": [
    "pcsv = re.compile('.csv$')\n",
    "pxls = re.compile('.xlsx$|.xls$')\n",
    "\n",
    "try:\n",
    "    if pcsv.search(file_address):\n",
    "        delimiter = ''\n",
    "        quotechar = ''\n",
    "        with open(file_address, newline='') as csvfile:\n",
    "            # Augmented from 1024 to have enough text when many columns\n",
    "            dialect = csv.Sniffer().sniff(csvfile.read(8192))\n",
    "            delimiter = dialect.delimiter\n",
    "            quotechar = dialect.quotechar\n",
    "        pd_data = pd.read_csv(file_address, delimiter=delimiter, quotechar=quotechar, index_col=False, low_memory=False)\n",
    "    elif pxls.search(file_address):\n",
    "        pd_data = pd.read_excel(file_address)\n",
    "    else:\n",
    "        print('No data available !')     \n",
    "        \n",
    "    # This part adds a column pk_table with value 1 to number of rows\n",
    "    # It will be used to sort the rows but will not be imported in the GVS data tables\n",
    "    i = 1\n",
    "    pk_list = []\n",
    "    limit = len(pd_data)\n",
    "    while i <= limit :\n",
    "        pk_list.append(i)\n",
    "        i = i + 1\n",
    "    pd_data.insert(0, 'pk_table', pk_list)\n",
    "    \n",
    "    ### builds a list with new column label, Pandas value type and original column label\n",
    "    columns=pd_data.dtypes.apply(lambda x: x.name).to_dict()\n",
    "    columns_new_list = []\n",
    "    i = 0\n",
    "    for key, value in columns.items():\n",
    "        temp = [value,key]\n",
    "        columns_new_list.append(['col_'+ str(i)] + temp)\n",
    "        i = i + 1\n",
    "        \n",
    "\n",
    "except Exception as e:\n",
    "    # e = sys.exc_info()[0]\n",
    "    print( e )\n"
   ]
  },
  {
   "cell_type": "code",
   "execution_count": null,
   "metadata": {},
   "outputs": [],
   "source": [
    "columns_new_list[:40]    # [68:77]"
   ]
  },
  {
   "cell_type": "code",
   "execution_count": null,
   "metadata": {},
   "outputs": [],
   "source": [
    "pd_data.head()"
   ]
  },
  {
   "cell_type": "code",
   "execution_count": null,
   "metadata": {},
   "outputs": [],
   "source": [
    "### Applying this function strips all spaces in columns of type string\n",
    "\n",
    "pd_data = trim_all_columns(pd_data)\n"
   ]
  },
  {
   "cell_type": "code",
   "execution_count": null,
   "metadata": {},
   "outputs": [],
   "source": [
    "len(pd_data)"
   ]
  },
  {
   "cell_type": "code",
   "execution_count": null,
   "metadata": {},
   "outputs": [],
   "source": [
    "len(pd_data.columns)"
   ]
  },
  {
   "cell_type": "markdown",
   "metadata": {},
   "source": [
    "## Création d'une base de données SQLite contenant cette table"
   ]
  },
  {
   "cell_type": "code",
   "execution_count": null,
   "metadata": {},
   "outputs": [],
   "source": [
    "conn = sql.connect('exemples/enseignants.sqlite')"
   ]
  },
  {
   "cell_type": "code",
   "execution_count": null,
   "metadata": {},
   "outputs": [],
   "source": [
    "pd_data.to_sql('pfap', conn, if_exists='replace', index=True, )\n",
    "conn.close()"
   ]
  },
  {
   "cell_type": "markdown",
   "metadata": {},
   "source": [
    "## Exploration de la table"
   ]
  },
  {
   "cell_type": "code",
   "execution_count": null,
   "metadata": {},
   "outputs": [],
   "source": [
    "conn = sql.connect('exemples/enseignants.sqlite')"
   ]
  },
  {
   "cell_type": "code",
   "execution_count": null,
   "metadata": {},
   "outputs": [],
   "source": [
    "table = pd.read_sql('select * from pfap', conn)\n",
    "conn.close()"
   ]
  },
  {
   "cell_type": "code",
   "execution_count": null,
   "metadata": {},
   "outputs": [],
   "source": [
    "table"
   ]
  },
  {
   "cell_type": "code",
   "execution_count": null,
   "metadata": {},
   "outputs": [],
   "source": [
    "table.sort_values(by='année de référence')"
   ]
  },
  {
   "cell_type": "code",
   "execution_count": null,
   "metadata": {},
   "outputs": [],
   "source": [
    "table['année de référence']"
   ]
  },
  {
   "cell_type": "code",
   "execution_count": null,
   "metadata": {},
   "outputs": [],
   "source": [
    "an_ref = table['année de référence']"
   ]
  },
  {
   "cell_type": "code",
   "execution_count": null,
   "metadata": {},
   "outputs": [],
   "source": [
    "vc = an_ref.value_counts()\n",
    "vcl = [[v[0],int(v[1])] for v in zip(vc.index, vc.values)]\n",
    "vcl.sort()\n",
    "pd_vcl = pd.DataFrame(vcl)\n",
    "print(pd_vcl.head())"
   ]
  },
  {
   "cell_type": "markdown",
   "metadata": {},
   "source": [
    "### Plot with Pandas\n",
    "\n",
    "Documentation:\n",
    "[pandas.DataFrame.plot](https://pandas.pydata.org/pandas-docs/version/1.0.3/reference/api/pandas.DataFrame.plot.html)"
   ]
  },
  {
   "cell_type": "code",
   "execution_count": null,
   "metadata": {},
   "outputs": [],
   "source": [
    "pd_vcl.columns = ['year', 'number']\n",
    "pd_vcl.plot(x = 'year', y = 'number')"
   ]
  }
 ],
 "metadata": {
  "kernelspec": {
   "display_name": "py37_atelier",
   "language": "python",
   "name": "atelier"
  },
  "language_info": {
   "codemirror_mode": {
    "name": "ipython",
    "version": 3
   },
   "file_extension": ".py",
   "mimetype": "text/x-python",
   "name": "python",
   "nbconvert_exporter": "python",
   "pygments_lexer": "ipython3",
   "version": "3.7.6"
  }
 },
 "nbformat": 4,
 "nbformat_minor": 4
}
