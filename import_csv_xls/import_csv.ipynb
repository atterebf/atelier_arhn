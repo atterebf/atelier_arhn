{
 "cells": [
  {
   "cell_type": "code",
   "execution_count": null,
   "metadata": {},
   "outputs": [],
   "source": []
  },
  {
   "cell_type": "code",
   "execution_count": null,
   "metadata": {},
   "outputs": [],
   "source": [
    "import csv\n",
    "import sqlite3 as sql\n",
    "import pandas as pd\n",
    "import pprint\n",
    "from datetime import datetime as dtm\n",
    "import time\n",
    "import re\n",
    "import json"
   ]
  },
  {
   "cell_type": "code",
   "execution_count": null,
   "metadata": {},
   "outputs": [],
   "source": [
    "###\n",
    "## And for newer versions of Python (3.6+, https://www.python.org/dev/peps/pep-0498/ purely for completeness), you can use the newer string formatting, ie.\n",
    "\n",
    "def get_time_formatted():\n",
    "    is_now = time.strftime('%Y-%m-%d %H:%M:%S')\n",
    "    # is_now_formatted = str({is_now:%Y-%m-%d %H:%M:%S})\n",
    "    return is_now"
   ]
  },
  {
   "cell_type": "code",
   "execution_count": null,
   "metadata": {},
   "outputs": [],
   "source": [
    "get_time_formatted()"
   ]
  },
  {
   "cell_type": "code",
   "execution_count": null,
   "metadata": {},
   "outputs": [],
   "source": []
  },
  {
   "cell_type": "code",
   "execution_count": null,
   "metadata": {},
   "outputs": [],
   "source": [
    "### Delete all trailing whitespaces. – Documentation:\n",
    "#  https://stackoverflow.com/questions/40950310/strip-trim-all-strings-of-a-dataframe\n",
    "def trim_all_columns(df):\n",
    "    \"\"\"\n",
    "    Trim whitespace from ends of each value across all series in dataframe\n",
    "    \"\"\"\n",
    "    trim_strings = lambda x: x.strip() if isinstance(x, str) else x\n",
    "    return df.applymap(trim_strings)"
   ]
  },
  {
   "cell_type": "code",
   "execution_count": null,
   "metadata": {},
   "outputs": [],
   "source": []
  },
  {
   "cell_type": "code",
   "execution_count": null,
   "metadata": {},
   "outputs": [],
   "source": []
  },
  {
   "cell_type": "markdown",
   "metadata": {},
   "source": [
    "## Préparation "
   ]
  },
  {
   "cell_type": "code",
   "execution_count": null,
   "metadata": {},
   "outputs": [],
   "source": [
    "### Ajouter le dossier parent dans le chemin de recherche des modules \n",
    "# Solution retenue depuis cette doc:\n",
    "# https://stackoverflow.com/questions/714063/importing-modules-from-parent-folder/11158224\n",
    "## Autres solutions également proposées\n",
    "\n",
    "import os,sys,inspect\n",
    "currentdir = os.path.dirname(os.path.abspath(inspect.getfile(inspect.currentframe())))\n",
    "parentdir = os.path.dirname(currentdir)\n",
    "sys.path.insert(0,parentdir) "
   ]
  },
  {
   "cell_type": "code",
   "execution_count": null,
   "metadata": {},
   "outputs": [],
   "source": [
    "parentdir"
   ]
  },
  {
   "cell_type": "code",
   "execution_count": null,
   "metadata": {},
   "outputs": [],
   "source": [
    "currentdir"
   ]
  },
  {
   "cell_type": "code",
   "execution_count": null,
   "metadata": {},
   "outputs": [],
   "source": []
  },
  {
   "cell_type": "code",
   "execution_count": null,
   "metadata": {},
   "outputs": [],
   "source": [
    "### Enseignants des collèges\n",
    "file_path = \"[FILE PATH]/\"\n",
    "file_name = \"pfap\""
   ]
  },
  {
   "cell_type": "code",
   "execution_count": null,
   "metadata": {},
   "outputs": [],
   "source": [
    "file_suffix = '.xls'  # '.xlsx'  '.csv' '.xls'"
   ]
  },
  {
   "cell_type": "code",
   "execution_count": null,
   "metadata": {},
   "outputs": [],
   "source": []
  },
  {
   "cell_type": "markdown",
   "metadata": {},
   "source": [
    "### Code à exécuter chaque fois à partir d'ici"
   ]
  },
  {
   "cell_type": "code",
   "execution_count": null,
   "metadata": {},
   "outputs": [],
   "source": [
    "file_address = file_path + file_name + file_suffix\n",
    "file_address"
   ]
  },
  {
   "cell_type": "markdown",
   "metadata": {},
   "source": [
    "### Créée l'objet *pd_data* et la liste des colonnes: *columns_new_list*"
   ]
  },
  {
   "cell_type": "code",
   "execution_count": null,
   "metadata": {},
   "outputs": [],
   "source": [
    "pcsv = re.compile('.csv$')\n",
    "pxls = re.compile('.xlsx$|.xls$')\n",
    "\n",
    "try:\n",
    "    if pcsv.search(file_address):\n",
    "        delimiter = ''\n",
    "        quotechar = ''\n",
    "        with open(file_address, newline='') as csvfile:\n",
    "            # Augmented from 1024 to have enough text when many columns\n",
    "            dialect = csv.Sniffer().sniff(csvfile.read(8192))\n",
    "            delimiter = dialect.delimiter\n",
    "            quotechar = dialect.quotechar\n",
    "        pd_data = pd.read_csv(file_address, delimiter=delimiter, quotechar=quotechar, index_col=False, low_memory=False)\n",
    "    elif pxls.search(file_address):\n",
    "        pd_data = pd.read_excel(file_address)\n",
    "    else:\n",
    "        print('No data available !')     \n",
    "        \n",
    "    # This part adds a column pk_table with value 1 to number of rows\n",
    "    # It will be used to sort the rows but will not be imported in the GVS data tables\n",
    "    i = 1\n",
    "    pk_list = []\n",
    "    limit = len(pd_data)\n",
    "    while i <= limit :\n",
    "        pk_list.append(i)\n",
    "        i = i + 1\n",
    "    pd_data.insert(0, 'pk_table', pk_list)\n",
    "    \n",
    "    ### builds a list with new column label, Pandas value type and original column label\n",
    "    columns=pd_data.dtypes.apply(lambda x: x.name).to_dict()\n",
    "    columns_new_list = []\n",
    "    i = 0\n",
    "    for key, value in columns.items():\n",
    "        temp = [value,key]\n",
    "        columns_new_list.append(['col_'+ str(i)] + temp)\n",
    "        i = i + 1\n",
    "        \n",
    "\n",
    "except Exception as e:\n",
    "    # e = sys.exc_info()[0]\n",
    "    print( e )\n"
   ]
  },
  {
   "cell_type": "code",
   "execution_count": null,
   "metadata": {},
   "outputs": [],
   "source": [
    "columns_new_list[:40]    # [68:77]"
   ]
  },
  {
   "cell_type": "code",
   "execution_count": null,
   "metadata": {},
   "outputs": [],
   "source": [
    "pd_data.head()"
   ]
  },
  {
   "cell_type": "code",
   "execution_count": null,
   "metadata": {},
   "outputs": [],
   "source": [
    "### Applying this function strips all spaces in columns of type string\n",
    "\n",
    "pd_data = trim_all_columns(pd_data)\n"
   ]
  },
  {
   "cell_type": "code",
   "execution_count": null,
   "metadata": {},
   "outputs": [],
   "source": [
    "len(pd_data)"
   ]
  },
  {
   "cell_type": "code",
   "execution_count": null,
   "metadata": {},
   "outputs": [],
   "source": [
    "len(pd_data.columns)"
   ]
  },
  {
   "cell_type": "code",
   "execution_count": null,
   "metadata": {},
   "outputs": [],
   "source": [
    "conn = sql.connect('enseignants.sqlite')"
   ]
  },
  {
   "cell_type": "code",
   "execution_count": null,
   "metadata": {},
   "outputs": [],
   "source": [
    "pd_data.to_sql('pfap', conn, if_exists='replace', index=False, )"
   ]
  },
  {
   "cell_type": "code",
   "execution_count": null,
   "metadata": {},
   "outputs": [],
   "source": [
    "pd.read_sql('select * from pfap', conn)"
   ]
  },
  {
   "cell_type": "code",
   "execution_count": null,
   "metadata": {},
   "outputs": [],
   "source": []
  }
 ],
 "metadata": {
  "kernelspec": {
   "display_name": "py37_cours2019",
   "language": "python",
   "name": "py37_cours2019"
  },
  "language_info": {
   "codemirror_mode": {
    "name": "ipython",
    "version": 3
   },
   "file_extension": ".py",
   "mimetype": "text/x-python",
   "name": "python",
   "nbconvert_exporter": "python",
   "pygments_lexer": "ipython3",
   "version": "3.7.3"
  }
 },
 "nbformat": 4,
 "nbformat_minor": 4
}
